{
 "cells": [
  {
   "cell_type": "markdown",
   "metadata": {},
   "source": [
    "# Unit 3 Sections 6\n",
    "> Lesson for 3.6\n",
    "\n",
    "- toc: false\n",
    "- badges: true\n",
    "- comments: true\n",
    "- categories: [csp]"
   ]
  },
  {
   "cell_type": "markdown",
   "metadata": {},
   "source": [
    "# Unit 3 Section 6\n",
    "\n",
    "## Learning Objectives\n",
    "- Write conditional statements\n",
    "- Determine the result of conditional statements\n",
    "\n",
    "## Vocab \n",
    "==Algorithm:== Finite set of instructions that accomplish a specific task\n",
    "\n",
    "### Conditional Statements\n",
    "Conditional statements allow the code to act based on multiple conditions, such as user input or stored data. We can use conditionals in algorithms in order to receive different outputs from a set of code, and help achieve the general purpose of the algorithm.\n",
    "\n",
    "### Categories\n",
    "Two broad types of conditional statements are if statements and if-else statements\n",
    "\n",
    "- if statement: will go through certain statements if the if expression is true\n",
    "- if-else statement: will go through a statement no matter what, but the statement which is run depends on the if expression is true or false"
   ]
  },
  {
   "cell_type": "code",
   "execution_count": 1,
   "metadata": {},
   "outputs": [
    {
     "name": "stdout",
     "output_type": "stream",
     "text": [
      "28\n"
     ]
    }
   ],
   "source": [
    "number1 = 28\n",
    "number2 = 43\n",
    "def lessthan30(num):\n",
    "    # Example of if statement\n",
    "    if num < 30: # If this condition is true(variable is less than 30)\n",
    "        print(num) # Then the value of the variable will be printed\n",
    "\n",
    "lessthan30(number1) # The if statement is true, so it will print the value of 28\n",
    "lessthan30(number2) # The if statement is false, nothing will be printed."
   ]
  },
  {
   "cell_type": "code",
   "execution_count": 2,
   "metadata": {},
   "outputs": [
    {
     "name": "stdout",
     "output_type": "stream",
     "text": [
      "28\n",
      "The value is too large!\n"
     ]
    }
   ],
   "source": [
    "# Using code from above\n",
    "number1 = 28\n",
    "number2 = 43\n",
    "def lessthan30(num):\n",
    "    # Example of if statement\n",
    "    if num < 30: # If this condition is true(variable is less than 30)\n",
    "        print(num) # Then the value of the variable will be printed\n",
    "    # Adding else statement\n",
    "    else: # If the if statement is false, the algorithm will go to this statement\n",
    "        print(\"The value is too large!\")\n",
    "\n",
    "lessthan30(number1) # The if statement is true, so it will print the value of 28\n",
    "lessthan30(number2) # The if statement is false, so the else function will run and state the value is too large"
   ]
  },
  {
   "cell_type": "markdown",
   "metadata": {},
   "source": [
    "Using conditionals is very helpful for going through a list of data.\n"
   ]
  }
 ],
 "metadata": {
  "kernelspec": {
   "display_name": "Python 3.9.12 ('base')",
   "language": "python",
   "name": "python3"
  },
  "language_info": {
   "codemirror_mode": {
    "name": "ipython",
    "version": 3
   },
   "file_extension": ".py",
   "mimetype": "text/x-python",
   "name": "python",
   "nbconvert_exporter": "python",
   "pygments_lexer": "ipython3",
   "version": "3.9.12"
  },
  "orig_nbformat": 4,
  "vscode": {
   "interpreter": {
    "hash": "40d3a090f54c6569ab1632332b64b2c03c39dcf918b08424e98f38b5ae0af88f"
   }
  }
 },
 "nbformat": 4,
 "nbformat_minor": 2
}
