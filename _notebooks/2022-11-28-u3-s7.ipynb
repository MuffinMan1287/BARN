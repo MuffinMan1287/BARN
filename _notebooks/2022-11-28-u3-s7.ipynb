{
 "cells": [
  {
   "cell_type": "markdown",
   "metadata": {},
   "source": [
    "# Unit 3 Section 7\n",
    "> Lesson for 3.7\n",
    "\n",
    "- toc: false\n",
    "- badges: true\n",
    "- comments: true\n",
    "- categories: [csp]"
   ]
  },
  {
   "cell_type": "markdown",
   "metadata": {},
   "source": [
    "# Unit 3 Section 7\n",
    "\n",
    "## Learning Objectives\n",
    "\n",
    "Write nested conditional statements Determine the result of nested conditional statement\n",
    "\n",
    "## Vocab\n",
    "\n",
    "<mark>Nested conditional:</mark> A conditional inside of a conditional\n",
    "\n",
    "### Nested Conditionals\n",
    "\n",
    "Nested conditionals are often used in algorithms in order to print specific data or run certain tasks.\n",
    "\n",
    "We can use conditionals inside conditionals to create further conditions in algorithms.\n",
    "\n",
    "We can use flowcharts to help display an easy to understand diagram of what we want a code segment to do. \n",
    "\n",
    "\n",
    "[Flowchart](https://drive.google.com/file/d/11tJBfrTXFenYGCzFy1t2g9KMh5OoGcq5/view?usp=share_link)\n"
   ]
  },
  {
   "cell_type": "code",
   "execution_count": 1,
   "metadata": {},
   "outputs": [
    {
     "name": "stdout",
     "output_type": "stream",
     "text": [
      "You can purchase AAPL.\n",
      "You cannot purchase NFLX.\n",
      "DOCU's P/E ratio is too low.\n"
     ]
    }
   ],
   "source": [
    "# Writing code based on flowchart\n",
    "\n",
    "# Defining dictionaries for each stock\n",
    "apple = {\n",
    "    \"ticker\": \"AAPL\",\n",
    "    \"p/e\": 24.73,\n",
    "    \"price\": 151.20,\n",
    "    \"eps\": 6.11,\n",
    "    \"volume\": 55916992\n",
    "}\n",
    "\n",
    "netflix = {\n",
    "    \"ticker\": \"NFLX\",\n",
    "    \"p/e\": 25.96,\n",
    "    \"price\": 291.50,\n",
    "    \"eps\": 11.23,\n",
    "    \"volume\": 5814124\n",
    "}\n",
    "\n",
    "docusign = {\n",
    "    \"ticker\": \"DOCU\",\n",
    "    \"p/e\": -85.8,\n",
    "    \"price\": 46.52,\n",
    "    \"eps\": -0.45,\n",
    "    \"volume\": 3332106\n",
    "}\n",
    "\n",
    "# Creating function\n",
    "def stockfinder(stock):\n",
    "    # Creating first if-else statement based on P/E ratio\n",
    "    if stock[\"p/e\"] > 5:\n",
    "        # Going for the nested check based on price if the first if statement is satisfied\n",
    "        if stock[\"price\"] < 200:\n",
    "            print(\"You can purchase \" + stock[\"ticker\"] + \".\")\n",
    "        else:\n",
    "            print(\"You cannot purchase \" + stock[\"ticker\"] + \".\")\n",
    "    # Function will go to this if the P/E is not greater than 5\n",
    "    else:\n",
    "        print(stock[\"ticker\"] + \"'s P/E ratio is too low.\")\n",
    "\n",
    "stockfinder(apple) # Will say Apple can be bought\n",
    "stockfinder(netflix) # Will say Netflix is too expensive\n",
    "stockfinder(docusign) # Will say DocuSign's P/E ratio is too low\n"
   ]
  },
  {
   "cell_type": "markdown",
   "metadata": {},
   "source": [
    "### Practice Questions\n",
    "\n",
    "**1. Is this an example of a nested conditional?**\n",
    "- space <-- 90\n",
    "- download <-- 20\n",
    "- IF (space > download) {\n",
    "    DISPLAY(\"File can be downloaded.\")\n",
    "- }\n",
    "\n",
    "1. Yes\n",
    "2. No\n",
    "\n",
    "<details closed>\n",
    "<summary>Answer and explanation</summary>\n",
    "2. There is only one conditional statement.\n",
    "</details>\n",
    "\n",
    "**2. What does this code display?**\n",
    "- price <-- 200\n",
    "- discount <-- 65\n",
    "- IF (price > 100) {\n",
    "    IF (discount > 50) {\n",
    "        DISPLAY(\"You can buy this item.\")\n",
    "    }\n",
    "    ELSE {\n",
    "        DISPLAY(\"You cannot purchase this item.\")\n",
    "    }\n",
    "}\n",
    "\n",
    "1. You cannot purchase this item.\n",
    "2. 50\n",
    "3. You can buy this item.\n",
    "4. 65\n",
    "\n",
    "<details closed>\n",
    "<summary>Answer and explanation</summary>\n",
    "3. The value of price is greater than a 100, which satisfies the 1st conditional. The 2nd if statement inside is satisfied, as the discount value is greater than 50. Thus the code from inside the 2nd if statement is displayed.\n",
    "</details>"
   ]
  }
 ],
 "metadata": {
  "kernelspec": {
   "display_name": "Python 3.9.12 ('base')",
   "language": "python",
   "name": "python3"
  },
  "language_info": {
   "codemirror_mode": {
    "name": "ipython",
    "version": 3
   },
   "file_extension": ".py",
   "mimetype": "text/x-python",
   "name": "python",
   "nbconvert_exporter": "python",
   "pygments_lexer": "ipython3",
   "version": "3.9.12"
  },
  "orig_nbformat": 4,
  "vscode": {
   "interpreter": {
    "hash": "40d3a090f54c6569ab1632332b64b2c03c39dcf918b08424e98f38b5ae0af88f"
   }
  }
 },
 "nbformat": 4,
 "nbformat_minor": 2
}
