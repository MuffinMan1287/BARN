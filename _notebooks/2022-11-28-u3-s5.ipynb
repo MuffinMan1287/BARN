{
 "cells": [
  {
   "cell_type": "markdown",
   "metadata": {},
   "source": [
    "# Unit 3 Sections 5\n",
    "> Lesson for 3.5\n",
    "\n",
    "- toc: false\n",
    "- badges: true\n",
    "- comments: true\n",
    "- categories: [csp]"
   ]
  },
  {
   "cell_type": "markdown",
   "metadata": {},
   "source": [
    "# Unit 3 Section 5\n",
    "\n",
    "## Learning Objectives\n",
    "- Write expressions with logical operators\n",
    "- Evaluate expressions that use logical operators\n",
    "\n",
    "## Vocab \n",
    "==Boolean:== binary variable with only two possible values, \"true\" or \"false\"\n",
    "\n",
    "### Relational Operators\n",
    "There are multiple operators which are used to evaluate 2 variables. In pseudocode the relational operators are =, >, <, ≠, ≥, and ≤. Other languages use different formats to represent these operators. For example, Python uses != instead of ≠. These operators help determine the boolean value of a statement."
   ]
  },
  {
   "cell_type": "code",
   "execution_count": 1,
   "metadata": {},
   "outputs": [
    {
     "name": "stdout",
     "output_type": "stream",
     "text": [
      "True\n",
      "False\n",
      "True\n"
     ]
    }
   ],
   "source": [
    "print(30 > 19) # Will output true, since is 30 is larger than 19\n",
    "\n",
    "# Using variables and strings\n",
    "a = \"Yes\"\n",
    "b = \"No\"\n",
    "print(a == b) # Will output false, not the same\n",
    "\n",
    "# Renaming b\n",
    "b = \"Yes\"\n",
    "print(a == b) # Will output true, since both variables match"
   ]
  },
  {
   "cell_type": "markdown",
   "metadata": {},
   "source": [
    "#### Practice Exercise\n",
    "- See the code block below for instructions"
   ]
  },
  {
   "cell_type": "code",
   "execution_count": 2,
   "metadata": {},
   "outputs": [
    {
     "name": "stdout",
     "output_type": "stream",
     "text": [
      "True\n",
      "False\n",
      "False\n"
     ]
    }
   ],
   "source": [
    "# Testing out relational operators\n",
    "# Practice with these statements\n",
    "\n",
    "print(20 == 20) # How can you change the operator to print a value of False?\n",
    "\n",
    "x = 30\n",
    "y = 20\n",
    "z = 10\n",
    "print(x > y + z) # How can this return true by only manipulating the operator?\n",
    "\n",
    "# Manipulate the variables x, y, and z to make the below statement return true\n",
    "print(x == z)"
   ]
  },
  {
   "cell_type": "markdown",
   "metadata": {},
   "source": [
    "### Logical Operators\n",
    "Logical operators allow for boolean values to be evaluated. Pseudocode uses the logical operators NOT, AND, and OR. Javascript uses the same logic, but uses different ways to represent the operators: &&(and), | |(or), |(not)."
   ]
  },
  {
   "cell_type": "code",
   "execution_count": 3,
   "metadata": {},
   "outputs": [
    {
     "name": "stdout",
     "output_type": "stream",
     "text": [
      "True\n",
      "There is enough dessert\n",
      "True\n",
      "False\n"
     ]
    }
   ],
   "source": [
    "print(1 == 1 and 10 >= 0) # Returns true because both statements are true\n",
    "\n",
    "cookies = 25\n",
    "brownies = 30\n",
    "print(\"There is enough dessert\") # First condition is false, but second condition is true\n",
    "print(cookies == 50 or cookies + brownies >= 35) # Ends up returning true since at least one condition is true\n",
    "\n",
    "# The expression \"Blue\" != \"Green\" is false\n",
    "print(not \"Blue\" != \"Green\") # Not operator changes statement to not false, printing true"
   ]
  },
  {
   "cell_type": "markdown",
   "metadata": {},
   "source": [
    "Operators and booleans can be very useful, allowing a program to create an algorithm based on user inputs items stored in list. For example, operators can be used to perform multiple operations on lists."
   ]
  }
 ],
 "metadata": {
  "kernelspec": {
   "display_name": "Python 3.9.12 ('base')",
   "language": "python",
   "name": "python3"
  },
  "language_info": {
   "codemirror_mode": {
    "name": "ipython",
    "version": 3
   },
   "file_extension": ".py",
   "mimetype": "text/x-python",
   "name": "python",
   "nbconvert_exporter": "python",
   "pygments_lexer": "ipython3",
   "version": "3.9.12"
  },
  "orig_nbformat": 4,
  "vscode": {
   "interpreter": {
    "hash": "40d3a090f54c6569ab1632332b64b2c03c39dcf918b08424e98f38b5ae0af88f"
   }
  }
 },
 "nbformat": 4,
 "nbformat_minor": 2
}
