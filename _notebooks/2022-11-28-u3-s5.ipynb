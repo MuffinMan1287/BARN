{
 "cells": [
  {
   "cell_type": "markdown",
   "metadata": {},
   "source": [
    "# Unit 3 Sections 5\n",
    "> Lesson for 3.5\n",
    "\n",
    "- toc: false\n",
    "- badges: true\n",
    "- comments: true\n",
    "- categories: [csp]"
   ]
  },
  {
   "cell_type": "markdown",
   "metadata": {},
   "source": [
    "# Unit 3 Section 5\n",
    "\n",
    "## Learning Objectives\n",
    "- Write expressions with logical operators\n",
    "- Evaluate expressions that use logical operators\n",
    "\n",
    "## Vocab \n",
    "<mark>Boolean</mark> binary variable with only two possible values, \"true\" or \"false\"\n",
    "\n",
    "### Relational Operators\n",
    "There are multiple operators which are used to evaluate 2 variables. In pseudocode the relational operators are =, >, <, ≠, ≥, and ≤. Other languages use different formats to represent these operators. For example, Python uses != instead of ≠. These operators help determine the boolean value of a statement."
   ]
  },
  {
   "cell_type": "code",
   "execution_count": 1,
   "metadata": {},
   "outputs": [
    {
     "name": "stdout",
     "output_type": "stream",
     "text": [
      "True\n",
      "False\n",
      "True\n"
     ]
    }
   ],
   "source": [
    "print(30 > 19) # Will output true, since is 30 is larger than 19\n",
    "\n",
    "# Using variables and strings\n",
    "a = \"Yes\"\n",
    "b = \"No\"\n",
    "print(a == b) # Will output false, not the same\n",
    "\n",
    "# Renaming b\n",
    "b = \"Yes\"\n",
    "print(a == b) # Will output true, since both variables match"
   ]
  },
  {
   "cell_type": "markdown",
   "metadata": {},
   "source": [
    "### Logical Operators\n",
    "Logical operators allow for boolean values to be evaluated. Pseudocode uses the logical operators NOT, AND, and OR. Javascript uses the same logic, but uses different ways to represent the operators: &&(and), | |(or), |(not)."
   ]
  },
  {
   "cell_type": "code",
   "execution_count": 1,
   "metadata": {},
   "outputs": [
    {
     "name": "stdout",
     "output_type": "stream",
     "text": [
      "True\n",
      "There is enough dessert\n",
      "True\n",
      "False\n"
     ]
    }
   ],
   "source": [
    "print(1 == 1 and 10 >= 0) # Returns true because both statements are true\n",
    "\n",
    "cookies = 25\n",
    "brownies = 30\n",
    "print(\"There is enough dessert\") # First condition is false, but second condition is true\n",
    "print(cookies == 50 or cookies + brownies >= 35) # Ends up returning true since at least one condition is true\n",
    "\n",
    "# The expression \"Blue\" != \"Green\" is false\n",
    "print(not \"Blue\" != \"Green\") # Not operator changes statement to not false, printing true"
   ]
  },
  {
   "cell_type": "markdown",
   "metadata": {},
   "source": [
    "<html>\n",
    "<style>\n",
    "    table, th, td { \n",
    "        border:2px solid white;\n",
    "    }\n",
    "</style>\n",
    "    <div>Relational Operators Table</div>\n",
    "    <div>Value 1 and Value 2(And operator)</div>\n",
    "    <div>\n",
    "        <table>\n",
    "            <tr>\n",
    "                <th>Value 1</th>\n",
    "                <th>Value 2</th>\n",
    "                <th>Result</th>\n",
    "            </tr>\n",
    "            <tr>\n",
    "                <td>True</td>\n",
    "                <td>True</td>\n",
    "                <td>True</td>\n",
    "            </tr>\n",
    "            <tr>\n",
    "                <td>True</td>\n",
    "                <td>False</td>\n",
    "                <td>False</td>\n",
    "            </tr>\n",
    "            <tr>\n",
    "                <td>False</td>\n",
    "                <td>True</td>\n",
    "                <td>False</td>\n",
    "            </tr>\n",
    "            <tr>\n",
    "                <td>False</td>\n",
    "                <td>False</td>\n",
    "                <td>False</td>\n",
    "            </tr>\n",
    "        </table>\n",
    "    </div>\n",
    "    <div>Value 1 or Value 2(Or operator)</div>\n",
    "    <div>\n",
    "        <table>\n",
    "            <tr>\n",
    "                <th>Value 1</th>\n",
    "                <th>Value 2</th>\n",
    "                <th>Result</th>\n",
    "            </tr>\n",
    "            <tr>\n",
    "                <td>True</td>\n",
    "                <td>True</td>\n",
    "                <td>True</td>\n",
    "            </tr>\n",
    "            <tr>\n",
    "                <td>True</td>\n",
    "                <td>False</td>\n",
    "                <td>True</td>\n",
    "            </tr>\n",
    "            <tr>\n",
    "                <td>False</td>\n",
    "                <td>True</td>\n",
    "                <td>True</td>\n",
    "            </tr>\n",
    "            <tr>\n",
    "                <td>False</td>\n",
    "                <td>False</td>\n",
    "                <td>False</td>\n",
    "            </tr>\n",
    "        </table>\n",
    "    </div>\n",
    "    <div>Not operator</div>\n",
    "    <div>\n",
    "        <table>\n",
    "            <tr>\n",
    "                <th>Not</th>\n",
    "                <th>Value</th>\n",
    "                <th>Result</th>\n",
    "            </tr>\n",
    "            <tr>\n",
    "                <td>Not</td>\n",
    "                <td>True</td>\n",
    "                <td>False</td>\n",
    "            </tr>\n",
    "            <tr>\n",
    "                <td>Not</td>\n",
    "                <td>False</td>\n",
    "                <td>True</td>\n",
    "            </tr>\n",
    "        </table>\n",
    "    </div>\n",
    "</html>"
   ]
  },
  {
   "cell_type": "markdown",
   "metadata": {},
   "source": [
    "Operators and booleans can be very useful, allowing a program to create an algorithm based on user inputs items stored in list. For example, operators can be used to perform multiple operations on lists."
   ]
  },
  {
   "cell_type": "markdown",
   "metadata": {},
   "source": [
    "### Practice Questions\n",
    "\n",
    "**1. What boolean value would result be?**\n",
    "- a <-- 19\n",
    "- b <-- 28\n",
    "- result <-- a = b\n",
    "\n",
    "1. True\n",
    "2. False\n",
    "\n",
    "<details closed>\n",
    "<summary>Answer and explanation</summary>\n",
    "B. a was assigned the value of 19, which is less than the value of 28 assigned to b.\n",
    "</details>\n",
    "\n",
    "**2. What boolean value would result be?**\n",
    "- score <-- 99\n",
    "- average <-- 99\n",
    "- result <-- score ≤ average\n",
    "\n",
    "1. True\n",
    "2. False\n",
    "\n",
    "<details closed>\n",
    "<summary>Answer and explanation</summary>\n",
    "A. score was assigned a value of 99, and so was average. Since it asks if score is less than or equal to average, which score is the same as, this results in true.\n",
    "</details>\n",
    "\n",
    "**3. What boolean value would be displayed?**\n",
    "- type <-- \"dog\"\n",
    "- training <-- \"yes\"\n",
    "- DISPLAY((NOT (type = \"dog\")) AND (training = \"no\"))\n",
    "\n",
    "1. True\n",
    "2. False\n",
    "\n",
    "<details closed>\n",
    "<summary>Answer and explanation</summary>\n",
    "A. Since type = \"dog\", the first statement(Not (type = \"dog\")) becomes FALSE. The second part is FALSE because training = \"yes\". This causes the statement to be FALSE AND FALSE\n",
    "</details>\n",
    "\n",
    "\n"
   ]
  }
 ],
 "metadata": {
  "kernelspec": {
   "display_name": "Python 3.9.12 ('base')",
   "language": "python",
   "name": "python3"
  },
  "language_info": {
   "codemirror_mode": {
    "name": "ipython",
    "version": 3
   },
   "file_extension": ".py",
   "mimetype": "text/x-python",
   "name": "python",
   "nbconvert_exporter": "python",
   "pygments_lexer": "ipython3",
   "version": "3.9.12"
  },
  "orig_nbformat": 4,
  "vscode": {
   "interpreter": {
    "hash": "40d3a090f54c6569ab1632332b64b2c03c39dcf918b08424e98f38b5ae0af88f"
   }
  }
 },
 "nbformat": 4,
 "nbformat_minor": 2
}
