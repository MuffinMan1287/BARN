{
 "cells": [
  {
   "cell_type": "markdown",
   "metadata": {},
   "source": [
    "# Unit 3 Sections 5-7\n",
    "> Sections 5-7 Lesson\n",
    "\n",
    "- toc: true\n",
    "- badges: true\n",
    "- comments: true\n",
    "- categories: [csp]"
   ]
  },
  {
   "cell_type": "markdown",
   "metadata": {},
   "source": [
    "# Unit 3 Section 5\n",
    "\n",
    "## Learning Objectives\n",
    "- Write expressions with logical operators\n",
    "- Evaluate expressions that use logical operators\n",
    "\n",
    "## Vocab \n",
    "==Boolean:== binary variable with only two possible values, \"true\" or \"false\"\n",
    "\n",
    "### Relational Operators\n",
    "There are multiple operators which are used to evaluate 2 variables. In pseudocode the relational operators are =, >, <, ≠, ≥, and ≤. Other languages use different formats to represent these operators. For example, Python uses != instead of ≠. These operators help determine the boolean value of a statement."
   ]
  },
  {
   "cell_type": "code",
   "execution_count": 4,
   "metadata": {},
   "outputs": [
    {
     "name": "stdout",
     "output_type": "stream",
     "text": [
      "True\n",
      "False\n",
      "True\n"
     ]
    }
   ],
   "source": [
    "print(30 > 19) # Will output true, since is 30 is larger than 19\n",
    "\n",
    "# Using variables and strings\n",
    "a = \"Yes\"\n",
    "b = \"No\"\n",
    "print(a == b) # Will output false, not the same\n",
    "\n",
    "# Renaming b\n",
    "b = \"Yes\"\n",
    "print(a == b) # Will output true, since both variables match"
   ]
  },
  {
   "cell_type": "markdown",
   "metadata": {},
   "source": [
    "#### Practice Exercise\n",
    "- See the code block below for instructions"
   ]
  },
  {
   "cell_type": "code",
   "execution_count": null,
   "metadata": {},
   "outputs": [],
   "source": [
    "# Testing out relational operators\n",
    "# Practice with these statements\n",
    "\n",
    "print(20 == 20) # How can you change the operator to print a value of False?\n",
    "\n",
    "x = 30\n",
    "y = 20\n",
    "z = 10\n",
    "print(x > y + z) # How can this return true by only manipulating the operator?\n",
    "\n",
    "# Manipulate the variables x, y, and z to make the below statement return true\n",
    "print(x == z)"
   ]
  },
  {
   "cell_type": "markdown",
   "metadata": {},
   "source": [
    "### Logical Operators\n",
    "Logical operators allow for boolean values to be evaluated. Pseudocode uses the logical operators NOT, AND, and OR. Javascript uses the same logic, but uses different ways to represent the operators: &&(and), | |(or), |(not)."
   ]
  },
  {
   "cell_type": "code",
   "execution_count": 9,
   "metadata": {},
   "outputs": [
    {
     "name": "stdout",
     "output_type": "stream",
     "text": [
      "True\n",
      "There is enough dessert\n",
      "True\n",
      "False\n"
     ]
    }
   ],
   "source": [
    "print(1 == 1 and 10 >= 0) # Returns true because both statements are true\n",
    "\n",
    "cookies = 25\n",
    "brownies = 30\n",
    "print(\"There is enough dessert\") # First condition is false, but second condition is true\n",
    "print(cookies == 50 or cookies + brownies >= 35) # Ends up returning true since at least one condition is true\n",
    "\n",
    "# The expression \"Blue\" != \"Green\" is false\n",
    "print(not \"Blue\" != \"Green\") # Not operator changes statement to not false, printing true"
   ]
  },
  {
   "cell_type": "markdown",
   "metadata": {},
   "source": [
    "Operators and booleans can be very useful, allowing a program to create an algorithm based on user inputs items stored in list. For example, operators can be used to perform multiple operations on lists."
   ]
  },
  {
   "cell_type": "markdown",
   "metadata": {},
   "source": [
    "# Unit 3 Section 6\n",
    "\n",
    "## Learning Objectives\n",
    "- Write conditional statements\n",
    "- Determine the result of conditional statements\n",
    "\n",
    "## Vocab \n",
    "==Algorithm:== Finite set of instructions that accomplish a specific task\n",
    "\n",
    "### Conditional Statements\n",
    "Conditional statements allow the code to act based on multiple conditions, such as user input or stored data. We can use conditionals in algorithms in order to receive different outputs from a set of code, and help achieve the general purpose of the algorithm."
   ]
  },
  {
   "cell_type": "markdown",
   "metadata": {},
   "source": [
    "### Categories\n",
    "Two broad types of conditional statements are if statements and if-else statements\n",
    "\n",
    "- if statement: will go through certain statements if the if expression is true\n",
    "- if-else statement: will go through a statement no matter what, but the statement which is run depends on the if expression is true or false"
   ]
  },
  {
   "cell_type": "code",
   "execution_count": 17,
   "metadata": {},
   "outputs": [
    {
     "name": "stdout",
     "output_type": "stream",
     "text": [
      "28\n"
     ]
    }
   ],
   "source": [
    "number1 = 28\n",
    "number2 = 43\n",
    "def lessthan30(num):\n",
    "    # Example of if statement\n",
    "    if num < 30: # If this condition is true(variable is less than 30)\n",
    "        print(num) # Then the value of the variable will be printed\n",
    "\n",
    "lessthan30(number1) # The if statement is true, so it will print the value of 28\n",
    "lessthan30(number2) # The if statement is false, nothing will be printed."
   ]
  },
  {
   "cell_type": "code",
   "execution_count": 18,
   "metadata": {},
   "outputs": [
    {
     "name": "stdout",
     "output_type": "stream",
     "text": [
      "28\n",
      "The value is too large!\n"
     ]
    }
   ],
   "source": [
    "# Using code from above\n",
    "number1 = 28\n",
    "number2 = 43\n",
    "def lessthan30(num):\n",
    "    # Example of if statement\n",
    "    if num < 30: # If this condition is true(variable is less than 30)\n",
    "        print(num) # Then the value of the variable will be printed\n",
    "    # Adding else statement\n",
    "    else: # If the if statement is false, the algorithm will go to this statement\n",
    "        print(\"The value is too large!\")\n",
    "\n",
    "lessthan30(number1) # The if statement is true, so it will print the value of 28\n",
    "lessthan30(number2) # The if statement is false, so the else function will run and state the value is too large"
   ]
  },
  {
   "cell_type": "markdown",
   "metadata": {},
   "source": [
    "Using conditionals is very helpful for going through a list of data.\n",
    "\n",
    "#### Practice Exercise\n",
    "- See code block below"
   ]
  },
  {
   "cell_type": "code",
   "execution_count": 15,
   "metadata": {},
   "outputs": [
    {
     "name": "stdout",
     "output_type": "stream",
     "text": [
      "lion\n",
      "tiger\n",
      "wildebeest\n",
      "Fun Fact: The smallest shark is the dwarf lantern shark, and it is small enough to hold in your hand!\n",
      "jellyfish\n",
      "blobfish\n",
      "raven\n"
     ]
    }
   ],
   "source": [
    "\n",
    "animals = [\"lion\", \"tiger\", \"wildebeest\", \"shark\", \"jellyfish\", \"blobfish\", \"raven\"]\n",
    "\n",
    "for i in animals:\n",
    "    if i == \"shark\": # What boolean value does this statement cause?\n",
    "        print(\"Fun Fact: The smallest shark is the dwarf lantern shark, and it is small enough to hold in your hand!\")\n",
    "    else:\n",
    "        print(i)\n",
    "\n",
    "# Practice\n",
    "# Using only one more if statement, alter the code to print out a statement saying if an animal lives in the desert, based on booleans"
   ]
  },
  {
   "cell_type": "markdown",
   "metadata": {},
   "source": [
    "# Unit 3 Section 7\n",
    "\n",
    "## Learning Objectives\n",
    "- Write nested conditional statements\n",
    "- Determine the result of nested conditional statement\n",
    "\n",
    "## Vocab \n",
    "==Nested conditional:== A conditional inside of a conditional\n",
    "\n",
    "### Nested Conditionals\n",
    "Nested conditionals are often used in algorithms in order to print specific data or run certain tasks. \n",
    "- We can use flowcharts to help display an easy to understand diagram of what we want a code segment to do.\n",
    "\n",
    "![Example of a flowchart]({{ site.baseurl }}/images/New Flowchart.jpg)"
   ]
  },
  {
   "cell_type": "code",
   "execution_count": 27,
   "metadata": {},
   "outputs": [
    {
     "name": "stdout",
     "output_type": "stream",
     "text": [
      "You can purchase AAPL.\n",
      "You cannot purchase NFLX.\n",
      "DOCU's P/E ratio is too low.\n"
     ]
    }
   ],
   "source": [
    "# Writing code based on flowchart\n",
    "\n",
    "# Defining dictionaries for each stock\n",
    "apple = {\n",
    "    \"ticker\": \"AAPL\",\n",
    "    \"p/e\": 24.73,\n",
    "    \"price\": 151.20,\n",
    "    \"eps\": 6.11,\n",
    "    \"volume\": 55916992\n",
    "}\n",
    "\n",
    "netflix = {\n",
    "    \"ticker\": \"NFLX\",\n",
    "    \"p/e\": 25.96,\n",
    "    \"price\": 291.50,\n",
    "    \"eps\": 11.23,\n",
    "    \"volume\": 5814124\n",
    "}\n",
    "\n",
    "docusign = {\n",
    "    \"ticker\": \"DOCU\",\n",
    "    \"p/e\": -85.8,\n",
    "    \"price\": 46.52,\n",
    "    \"eps\": -0.45,\n",
    "    \"volume\": 3332106\n",
    "}\n",
    "\n",
    "# Creating function\n",
    "def stockfinder(stock):\n",
    "    # Creating first if-else statement based on P/E ratio\n",
    "    if stock[\"p/e\"] > 5:\n",
    "        # Going for the nested check based on price if the first if statement is satisfied\n",
    "        if stock[\"price\"] < 200:\n",
    "            print(\"You can purchase \" + stock[\"ticker\"] + \".\")\n",
    "        else:\n",
    "            print(\"You cannot purchase \" + stock[\"ticker\"] + \".\")\n",
    "    # Function will go to this if the P/E is not greater than 5\n",
    "    else:\n",
    "        print(stock[\"ticker\"] + \"'s P/E ratio is too low.\")\n",
    "\n",
    "stockfinder(apple) # Will say Apple can be bought\n",
    "stockfinder(netflix) # Will say Netflix is too expensive\n",
    "stockfinder(docusign) # Will say DocuSign's P/E ratio is too low"
   ]
  },
  {
   "cell_type": "markdown",
   "metadata": {},
   "source": [
    "#### Practice Exercise\n",
    "- Create dictionaries for multiple food items, with the listed specifications\n",
    "    - Chicken Alfredo, Meat: Chicken, Time to Prepare: 60 minutes\n",
    "    - Cheese Quesadilla, Meat: None, Time to Prepare: 10 minutes\n",
    "    - Beef Wellington, Meat: Beef, Time to Prepare: 150 minutes\n",
    "- Used nested conditionals, determine which meal you can cook, given that a) you have no meat at home, and b) you only have 30 minutes to make the meal"
   ]
  },
  {
   "cell_type": "code",
   "execution_count": null,
   "metadata": {},
   "outputs": [],
   "source": [
    "# Write your code here"
   ]
  }
 ],
 "metadata": {
  "kernelspec": {
   "display_name": "Python 3.9.12 ('base')",
   "language": "python",
   "name": "python3"
  },
  "language_info": {
   "codemirror_mode": {
    "name": "ipython",
    "version": 3
   },
   "file_extension": ".py",
   "mimetype": "text/x-python",
   "name": "python",
   "nbconvert_exporter": "python",
   "pygments_lexer": "ipython3",
   "version": "3.9.12"
  },
  "orig_nbformat": 4,
  "vscode": {
   "interpreter": {
    "hash": "40d3a090f54c6569ab1632332b64b2c03c39dcf918b08424e98f38b5ae0af88f"
   }
  }
 },
 "nbformat": 4,
 "nbformat_minor": 2
}
