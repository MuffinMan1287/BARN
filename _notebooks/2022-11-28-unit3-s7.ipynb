{
 "cells": [
  {
   "cell_type": "markdown",
   "metadata": {},
   "source": [
    "# Unit 3 Section 7\n",
    "> Lesson for 3.7\n",
    "\n",
    "- toc: false\n",
    "- badges: true\n",
    "- comments: true\n",
    "- categories: [csp]"
   ]
  },
  {
   "cell_type": "markdown",
   "metadata": {},
   "source": [
    "# Unit 3 Section 7\n",
    "\n",
    "## Learning Objectives\n",
    "Write nested conditional statements\n",
    "Determine the result of nested conditional statement\n",
    "\n",
    "## Vocab\n",
    "<mark style=\"background-color: #FFFF00\">Nested conditional:</mark>A conditional inside of a conditional\n",
    "\n",
    "### Nested Conditionals\n",
    "Nested conditionals are often used in algorithms in order to print specific data or run certain tasks.\n",
    "\n",
    "We can use flowcharts to help display an easy to understand diagram of what we want a code segment to do.\n",
    "![Example of a flowchart]({{ site.baseurl }}/images/New Flowchart.jpg)"
   ]
  },
  {
   "cell_type": "code",
   "execution_count": null,
   "metadata": {},
   "outputs": [],
   "source": [
    "# Writing code based on flowchart\n",
    "\n",
    "# Defining dictionaries for each stock\n",
    "apple = {\n",
    "    \"ticker\": \"AAPL\",\n",
    "    \"p/e\": 24.73,\n",
    "    \"price\": 151.20,\n",
    "    \"eps\": 6.11,\n",
    "    \"volume\": 55916992\n",
    "}\n",
    "\n",
    "netflix = {\n",
    "    \"ticker\": \"NFLX\",\n",
    "    \"p/e\": 25.96,\n",
    "    \"price\": 291.50,\n",
    "    \"eps\": 11.23,\n",
    "    \"volume\": 5814124\n",
    "}\n",
    "\n",
    "docusign = {\n",
    "    \"ticker\": \"DOCU\",\n",
    "    \"p/e\": -85.8,\n",
    "    \"price\": 46.52,\n",
    "    \"eps\": -0.45,\n",
    "    \"volume\": 3332106\n",
    "}\n",
    "\n",
    "# Creating function\n",
    "def stockfinder(stock):\n",
    "    # Creating first if-else statement based on P/E ratio\n",
    "    if stock[\"p/e\"] > 5:\n",
    "        # Going for the nested check based on price if the first if statement is satisfied\n",
    "        if stock[\"price\"] < 200:\n",
    "            print(\"You can purchase \" + stock[\"ticker\"] + \".\")\n",
    "        else:\n",
    "            print(\"You cannot purchase \" + stock[\"ticker\"] + \".\")\n",
    "    # Function will go to this if the P/E is not greater than 5\n",
    "    else:\n",
    "        print(stock[\"ticker\"] + \"'s P/E ratio is too low.\")\n",
    "\n",
    "stockfinder(apple) # Will say Apple can be bought\n",
    "stockfinder(netflix) # Will say Netflix is too expensive\n",
    "stockfinder(docusign) # Will say DocuSign's P/E ratio is too low\n",
    "You"
   ]
  },
  {
   "cell_type": "markdown",
   "metadata": {},
   "source": [
    "### Practice Exercise\n",
    "\n",
    "- Create dictionaries for multiple food items, with the listed specifications\n",
    "    - Chicken Alfredo, Meat: Chicken, Time to Prepare: 60 minutes\n",
    "    - Cheese Quesadilla, Meat: None, Time to Prepare: 10 minutes\n",
    "    - Beef Wellington, Meat: Beef, Time to Prepare: 150 minutes\n",
    "- Used nested conditionals, determine which meal you can cook, given that a) you have no meat at home, and b) you only have 30 minutes to make the meal"
   ]
  }
 ],
 "metadata": {
  "kernelspec": {
   "display_name": "Python 3.9.12 ('base')",
   "language": "python",
   "name": "python3"
  },
  "language_info": {
   "name": "python",
   "version": "3.9.12"
  },
  "orig_nbformat": 4,
  "vscode": {
   "interpreter": {
    "hash": "40d3a090f54c6569ab1632332b64b2c03c39dcf918b08424e98f38b5ae0af88f"
   }
  }
 },
 "nbformat": 4,
 "nbformat_minor": 2
}
