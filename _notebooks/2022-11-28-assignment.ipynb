{
 "cells": [
  {
   "cell_type": "markdown",
   "metadata": {},
   "source": [
    "# Unit 3 Sections 5-7 Hacks\n",
    "> Hacks\n",
    "\n",
    "- toc: false\n",
    "- badges: true\n",
    "- comments: true\n",
    "- categories: [csp]"
   ]
  },
  {
   "cell_type": "markdown",
   "metadata": {},
   "source": [
    "Remember to make a copy of the lesson notebook and complete them on your own blog. Blog about any trouble which you had or what you learned."
   ]
  },
  {
   "cell_type": "markdown",
   "metadata": {},
   "source": [
    "For the Hacks, create a game based on the following requirements:\n",
    "Objective --> The game will take a string and give it a certain number of points based on a randomly selected letter\n",
    "- The game will split up each part of the string and add it to a list\n",
    "- Using a random generator, select a letter of the alphabet to assign score the word\n",
    "- Using ==relational operators==, check the letters of the string with the randomly generated letter, adding points to a score if there is a match\n",
    "- Using a ==nested conditional== and ==relational operators==, add additional points if the randomly generated letter is uncommon(ex. 'q', 'x', 'y', 'z')\n",
    "- Check the total score with a ==relational operator==, and print some sort of message for the user based on their score(ex. 'Good job!' for scoring 2 points)\n",
    "\n",
    "Ideas for Extra Points:\n",
    "- Randomly generate a number, and if the user has the designated letter that many times, award them a bonus score --> Nested conditionals, relational operators\n",
    "- Use user input\n",
    "- Randomly generate a score for the user, and if their final score matches the \"prediction\", print a message --> Relational operators\n"
   ]
  },
  {
   "cell_type": "code",
   "execution_count": null,
   "metadata": {},
   "outputs": [],
   "source": [
    "import random\n",
    "\n",
    "string = \"Blank\" # Change this!\n",
    "stringlist = [\"b\", \"l\", \"a\", \"n\", \"k\"] # Change this! Would be cool to use a function to do this based off string.\n",
    "\n",
    "# List with individual letters\n",
    "letters = \n",
    "['a', 'b', 'c', 'd', 'e', 'f', 'g', 'h', 'i', 'j', 'k', 'l', 'm', 'n', 'o', 'p', 'q', 'r', 's', 't', 'u', 'v', 'x', 'y', 'z']\n",
    "\n"
   ]
  }
 ],
 "metadata": {
  "kernelspec": {
   "display_name": "Python 3.8.2 64-bit",
   "language": "python",
   "name": "python3"
  },
  "language_info": {
   "name": "python",
   "version": "3.8.2"
  },
  "orig_nbformat": 4,
  "vscode": {
   "interpreter": {
    "hash": "31f2aee4e71d21fbe5cf8b01ff0e069b9275f58929596ceb00d14d90e3e16cd6"
   }
  }
 },
 "nbformat": 4,
 "nbformat_minor": 2
}
